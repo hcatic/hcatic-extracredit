{
  "cells": [
    {
      "cell_type": "markdown",
      "metadata": {
        "id": "zSMBle75aXPS"
      },
      "source": [
        "Libraries"
      ]
    },
    {
      "cell_type": "code",
      "execution_count": 86,
      "metadata": {
        "id": "oIyEsMbMaoZN"
      },
      "outputs": [],
      "source": [
        "import pandas as pd\n",
        "import numpy as np\n",
        "import matplotlib.pyplot as plt\n",
        "import seaborn as sns\n",
        "from sklearn.ensemble import RandomForestClassifier\n",
        "from sklearn.metrics import f1_score, confusion_matrix, classification_report, make_scorer\n",
        "from sklearn.model_selection import train_test_split, GridSearchCV\n",
        "from sklearn.preprocessing import LabelEncoder, StandardScaler\n",
        "import joblib"
      ]
    },
    {
      "cell_type": "markdown",
      "metadata": {
        "id": "iS8CoUFfatIt"
      },
      "source": [
        "Loading The Files"
      ]
    },
    {
      "cell_type": "code",
      "execution_count": 87,
      "metadata": {
        "colab": {
          "base_uri": "https://localhost:8080/",
          "height": 472
        },
        "id": "kE_LYW3Bay7t",
        "outputId": "310b3bf3-3b34-4b68-b055-357a883db0a9"
      },
      "outputs": [
        {
          "output_type": "display_data",
          "data": {
            "text/plain": [
              "<Figure size 640x480 with 1 Axes>"
            ],
            "image/png": "[encoded data removed]"
          },
          "metadata": {}
        }
      ],
      "source": [
        "train = pd.read_csv('train.csv')\n",
        "test = pd.read_csv('test.csv')\n",
        "\n",
        "id_col = 'id'\n",
        "target = 'is_fraud'\n",
        "\n",
        "sns.countplot(x=train[target])\n",
        "plt.title('Class Distribution')\n",
        "plt.show()"
      ]
    },
    {
      "cell_type": "markdown",
      "metadata": {
        "id": "G8uBWKo_hJLc"
      },
      "source": [
        "Feature Engineering"
      ]
    },
    {
      "cell_type": "code",
      "execution_count": 88,
      "metadata": {
        "id": "hq35Z2w8hKfc"
      },
      "outputs": [],
      "source": [
        "def haversine_distance(lat1, lon1, lat2, lon2):\n",
        "    R = 6371\n",
        "\n",
        "    lat1, lon1, lat2, lon2 = map(np.radians, [lat1, lon1, lat2, lon2])\n",
        "\n",
        "    dlat = lat2 - lat1\n",
        "    dlon = lon2 - lon1\n",
        "\n",
        "    a = np.sin(dlat / 2)**2 + np.cos(lat1) * np.cos(lat2) * np.sin(dlon / 2)**2\n",
        "    c = 2 * np.arcsin(np.sqrt(a))\n",
        "    return R * c\n",
        "\n",
        "def extract_datetime_features(df):\n",
        "    df['trans_datetime'] = pd.to_datetime(df['unix_time'], unit='s', errors='coerce')\n",
        "\n",
        "    df['hour'] = df['trans_datetime'].dt.hour\n",
        "    df['day'] = df['trans_datetime'].dt.day\n",
        "    df['month'] = df['trans_datetime'].dt.month\n",
        "    df['day_of_week'] = df['trans_datetime'].dt.dayofweek\n",
        "\n",
        "    df['is_late_night'] = df['hour'].apply(lambda x: 1 if (x >= 22 or x <= 6) else 0)\n",
        "\n",
        "    return df\n",
        "\n",
        "def calculate_age(df):\n",
        "    df['dob'] = pd.to_datetime(df['dob'], errors='coerce')\n",
        "\n",
        "    df['age'] = df.apply(\n",
        "        lambda row: row['trans_datetime'].year - row['dob'].year -\n",
        "                    ((row['trans_datetime'].month, row['trans_datetime'].day) <\n",
        "                     (row['dob'].month, row['dob'].day))\n",
        "        if pd.notnull(row['dob']) and pd.notnull(row['trans_datetime']) else np.nan,\n",
        "        axis=1\n",
        "    )\n",
        "\n",
        "    df['age'] = df['age'].clip(lower=0, upper=100)\n",
        "\n",
        "    df = df.drop(['dob', 'trans_datetime'], axis=1)\n",
        "\n",
        "    return df\n",
        "\n",
        "def calculate_distance(df):\n",
        "    df['distance_km'] = haversine_distance(df['lat'], df['long'], df['merch_lat'], df['merch_long'])\n",
        "    return df\n",
        "\n",
        "def encode_and_scale_features(df, label_encoders=None, scaler=None, fit=True):\n",
        "    categorical_columns = ['category', 'gender', 'state', 'job']\n",
        "    numerical_columns = ['amt', 'distance_km', 'city_pop', 'age']\n",
        "\n",
        "    if fit:\n",
        "        label_encoders = {}\n",
        "        for col in categorical_columns:\n",
        "            le = LabelEncoder()\n",
        "            df[col] = le.fit_transform(df[col].fillna('Unknown'))\n",
        "            label_encoders[col] = le\n",
        "    else:\n",
        "        for col in categorical_columns:\n",
        "            df[col] = df[col].fillna('Unknown')\n",
        "            df[col] = df[col].apply(lambda x: x if x in label_encoders[col].classes_ else 'Unknown')\n",
        "            df[col] = label_encoders[col].transform(df[col])\n",
        "\n",
        "    if fit:\n",
        "        scaler = StandardScaler()\n",
        "        df[numerical_columns] = scaler.fit_transform(df[numerical_columns].fillna(0))\n",
        "    else:\n",
        "        df[numerical_columns] = scaler.transform(df[numerical_columns].fillna(0))\n",
        "\n",
        "    return df, label_encoders, scaler\n",
        "\n",
        "def preprocess_data(df, label_encoders=None, scaler=None, fit=True):\n",
        "    df = extract_datetime_features(df)\n",
        "\n",
        "    df = calculate_age(df)\n",
        "\n",
        "    df = calculate_distance(df)\n",
        "\n",
        "    drop_cols = [\n",
        "        'trans_num', 'trans_date', 'trans_time', 'unix_time',\n",
        "        'first', 'last', 'street', 'city', 'zip', 'lat', 'long',\n",
        "        'merch_lat', 'merch_long', 'dob'\n",
        "    ]\n",
        "    df = df.drop(columns=[c for c in drop_cols if c in df.columns], errors='ignore')\n",
        "\n",
        "    df, label_encoders, scaler = encode_and_scale_features(df, label_encoders, scaler, fit)\n",
        "\n",
        "    feature_columns = [\n",
        "        'amt', 'distance_km', 'city_pop',\n",
        "        'hour', 'day', 'month', 'day_of_week', 'is_late_night', 'age',\n",
        "        'category', 'gender', 'state', 'job'\n",
        "    ]\n",
        "    X = df[feature_columns]\n",
        "\n",
        "    y = df[target] if target in df.columns else None\n",
        "\n",
        "    return X, y, label_encoders, scaler\n",
        "\n",
        "X, y, label_encoders, scaler = preprocess_data(train, fit=True)\n",
        "\n",
        "X_test, _, _, _ = preprocess_data(test, label_encoders=label_encoders, scaler=scaler, fit=False)\n",
        "\n",
        "X = X.fillna(0)\n",
        "X_test = X_test.fillna(0)\n",
        "\n",
        "X_train, X_val, y_train, y_val = train_test_split(\n",
        "    X, y, test_size=0.2, random_state=42, stratify=y\n",
        ")"
      ]
    },
    {
      "cell_type": "markdown",
      "metadata": {
        "id": "_5Vc_HlDb22O"
      },
      "source": [
        "Model Training and Evaluation"
      ]
    },
    {
      "cell_type": "code",
      "execution_count": 89,
      "metadata": {
        "colab": {
          "base_uri": "https://localhost:8080/"
        },
        "id": "wS7_Zt0zb4EA",
        "outputId": "d90c2198-dddc-4f73-ab3d-e14947946d92"
      },
      "outputs": [
        {
          "output_type": "stream",
          "name": "stdout",
          "text": [
            "Validation F1-score: 0.9607218683651805\n"
          ]
        }
      ],
      "source": [
        "rf_model = RandomForestClassifier(\n",
        "    n_estimators=400,\n",
        "    max_depth=20,\n",
        "    class_weight='balanced',\n",
        "    random_state=42,\n",
        "    n_jobs=-1\n",
        ")\n",
        "\n",
        "rf_model.fit(X_train, y_train)\n",
        "\n",
        "y_pred_val = rf_model.predict(X_val)\n",
        "val_f1 = f1_score(y_val, y_pred_val)\n",
        "print(\"Validation F1-score:\", val_f1)"
      ]
    },
    {
      "cell_type": "markdown",
      "metadata": {
        "id": "cLx64WPRb_82"
      },
      "source": [
        "Create Submission File"
      ]
    },
    {
      "cell_type": "code",
      "execution_count": 90,
      "metadata": {
        "colab": {
          "base_uri": "https://localhost:8080/"
        },
        "id": "IEpbdHf1cEOL",
        "outputId": "0d23dda5-ae12-4acf-fabb-c5014318fc91"
      },
      "outputs": [
        {
          "output_type": "stream",
          "name": "stdout",
          "text": [
            "Submission file saved as submission.csv\n"
          ]
        }
      ],
      "source": [
        "y_test_pred = rf_model.predict(X_test)\n",
        "\n",
        "submission = pd.DataFrame({\n",
        "    'id': test[id_col],\n",
        "    'is_fraud': y_test_pred\n",
        "})\n",
        "\n",
        "submission.to_csv('submission.csv', index=False)\n",
        "print(\"Submission file saved as submission.csv\")"
      ]
    }
  ],
  "metadata": {
    "colab": {
      "provenance": []
    },
    "kernelspec": {
      "display_name": "Python 3",
      "name": "python3"
    },
    "language_info": {
      "name": "python"
    }
  },
  "nbformat": 4,
  "nbformat_minor": 0
}